{
 "cells": [
  {
   "cell_type": "markdown",
   "metadata": {},
   "source": [
    "# Navigation\n",
    "\n",
    "---\n",
    "\n",
    "You are welcome to use this coding environment to train your agent for the project.  Follow the instructions below to get started!\n",
    "\n",
    "### 1. Start the Environment\n",
    "\n",
    "Run the next code cell to install a few packages.  This line will take a few minutes to run!"
   ]
  },
  {
   "cell_type": "code",
   "execution_count": 1,
   "metadata": {},
   "outputs": [],
   "source": [
    "from project_1 import Agent  # DQN Agent"
   ]
  },
  {
   "cell_type": "code",
   "execution_count": 6,
   "metadata": {},
   "outputs": [
    {
     "name": "stdout",
     "output_type": "stream",
     "text": [
      "1.7.1\n"
     ]
    }
   ],
   "source": [
    "import tensorflow as tf\n",
    "print(tf.__version__)"
   ]
  },
  {
   "cell_type": "code",
   "execution_count": 7,
   "metadata": {},
   "outputs": [],
   "source": [
    "import random\n",
    "import torch\n",
    "from collections import deque\n",
    "import matplotlib.pyplot as plt\n",
    "from IPython import display as ipythondisplay\n",
    "import seaborn as sns ;sns.set()\n",
    "random.seed(0)"
   ]
  },
  {
   "cell_type": "markdown",
   "metadata": {},
   "source": [
    "The environment is already saved in the Workspace and can be accessed at the file path provided below.  Please run the next code cell without making any changes."
   ]
  },
  {
   "cell_type": "code",
   "execution_count": 8,
   "metadata": {},
   "outputs": [
    {
     "name": "stderr",
     "output_type": "stream",
     "text": [
      "INFO:unityagents:\n",
      "'Academy' started successfully!\n",
      "Unity Academy name: Academy\n",
      "        Number of Brains: 1\n",
      "        Number of External Brains : 1\n",
      "        Lesson number : 0\n",
      "        Reset Parameters :\n",
      "\t\t\n",
      "Unity brain name: BananaBrain\n",
      "        Number of Visual Observations (per agent): 0\n",
      "        Vector Observation space type: continuous\n",
      "        Vector Observation space size (per agent): 37\n",
      "        Number of stacked Vector Observation: 1\n",
      "        Vector Action space type: discrete\n",
      "        Vector Action space size (per agent): 4\n",
      "        Vector Action descriptions: , , , \n"
     ]
    }
   ],
   "source": [
    "from unityagents import UnityEnvironment\n",
    "import numpy as np\n",
    "\n",
    "# please do not modify the line below\n",
    "env = UnityEnvironment(file_name=\"Banana_Windows_x86_64/Banana_Windows_x86_64/Banana.exe\")"
   ]
  },
  {
   "cell_type": "markdown",
   "metadata": {},
   "source": [
    "Environments contain **_brains_** which are responsible for deciding the actions of their associated agents. Here we check for the first brain available, and set it as the default brain we will be controlling from Python."
   ]
  },
  {
   "cell_type": "code",
   "execution_count": 9,
   "metadata": {},
   "outputs": [],
   "source": [
    "# get the default brain\n",
    "brain_name = env.brain_names[0]\n",
    "brain = env.brains[brain_name]"
   ]
  },
  {
   "cell_type": "markdown",
   "metadata": {},
   "source": [
    "### 2. Examine the State and Action Spaces\n",
    "\n",
    "\n",
    "Run the code cell below to print some information about the environment."
   ]
  },
  {
   "cell_type": "code",
   "execution_count": 10,
   "metadata": {},
   "outputs": [
    {
     "name": "stdout",
     "output_type": "stream",
     "text": [
      "Number of agents: 1\n",
      "Number of actions: 4\n",
      "States look like: [1.         0.         0.         0.         0.84408134 0.\n",
      " 0.         1.         0.         0.0748472  0.         1.\n",
      " 0.         0.         0.25755    1.         0.         0.\n",
      " 0.         0.74177343 0.         1.         0.         0.\n",
      " 0.25854847 0.         0.         1.         0.         0.09355672\n",
      " 0.         1.         0.         0.         0.31969345 0.\n",
      " 0.        ]\n",
      "States have length: 37\n"
     ]
    }
   ],
   "source": [
    "# reset the environment\n",
    "env_info = env.reset(train_mode=True)[brain_name]\n",
    "\n",
    "# number of agents in the environment\n",
    "print('Number of agents:', len(env_info.agents))\n",
    "\n",
    "# number of actions\n",
    "action_size = brain.vector_action_space_size\n",
    "print('Number of actions:', action_size)\n",
    "\n",
    "# examine the state space \n",
    "state = env_info.vector_observations[0]\n",
    "print('States look like:', state)\n",
    "state_size = len(state)\n",
    "print('States have length:', state_size)"
   ]
  },
  {
   "cell_type": "markdown",
   "metadata": {},
   "source": [
    "### 3. Take Random Actions in the Environment\n",
    "\n",
    "In the next code cell, you will learn how to use the Python API to control the agent and receive feedback from the environment.\n",
    "\n",
    "Note that **in this coding environment, you will not be able to watch the agent while it is training**, and you should set `train_mode=True` to restart the environment."
   ]
  },
  {
   "cell_type": "code",
   "execution_count": 9,
   "metadata": {},
   "outputs": [
    {
     "name": "stdout",
     "output_type": "stream",
     "text": [
      "Score: 1.0\n"
     ]
    }
   ],
   "source": [
    "env_info = env.reset(train_mode=True)[brain_name] # reset the environment\n",
    "state = env_info.vector_observations[0]            # get the current state\n",
    "score = 0                                          # initialize the score\n",
    "while True:\n",
    "    action = np.random.randint(action_size)        # select an action\n",
    "    env_info = env.step(action)[brain_name]        # send the action to the environment\n",
    "    next_state = env_info.vector_observations[0]   # get the next state\n",
    "    reward = env_info.rewards[0]                   # get the reward\n",
    "    done = env_info.local_done[0]                  # see if episode has finished\n",
    "    score += reward                                # update the score\n",
    "    state = next_state                             # roll over the state to next time step\n",
    "    if done:                                       # exit loop if episode finished\n",
    "        break\n",
    "    \n",
    "print(\"Score: {}\".format(score))"
   ]
  },
  {
   "cell_type": "code",
   "execution_count": 11,
   "metadata": {},
   "outputs": [],
   "source": [
    "def run(num_episodes,agent,t_max):\n",
    "    eps=1.0\n",
    "    eps_decay  = 0.995\n",
    "    eps_min = 0.01\n",
    "    scores_window = deque(maxlen=100)\n",
    "    scores =[]\n",
    "    solved= False\n",
    "    print(\"Agent lerning with State_size : {}  Action_size : {}  Gamma : {}  Update_schedule : {} \\n DDQN :  {}\".format(agent.state_size,agent.action_size,agent.gamma,agent.learn_schedule,agent.ddqn))\n",
    "    for i in range(1,num_episodes+1):\n",
    "        \n",
    "        env_info = env.reset(train_mode=True)[brain_name]  # initital state for episode\n",
    "        \n",
    "        state = env_info.vector_observations[0]\n",
    "        score = 0\n",
    "        \n",
    "        for t in range(t_max):\n",
    "            action = int(agent.e_greedy(state,eps)) # e-greedy action selection\n",
    "            \n",
    "            env_info  = env.step(action)[brain_name]\n",
    "            next_state = env_info.vector_observations[0]   # get the next state\n",
    "            reward = env_info.rewards[0]                   # get the reward\n",
    "            done = env_info.local_done[0]                  # see if episode has finished\n",
    "            score += reward                                # update the score\n",
    "            \n",
    "            agent.store_exp(state,action,reward,next_state,done)\n",
    "            score+=reward\n",
    "            state = next_state\n",
    "            if done:\n",
    "                break\n",
    "            \n",
    "        scores_window.append(score)\n",
    "        scores.append(score)\n",
    "        eps = max(eps_min, eps_decay*eps)\n",
    "            \n",
    "        \n",
    "        print('\\rEpisode {}\\tAverage Score: {:.2f}   eps: {:.3f}'.format(i, np.mean(scores_window),eps), end=\"\")\n",
    "        if i % 100 == 0:\n",
    "            print('\\rEpisode {}\\tAverage Score: {:.2f}'.format(i, np.mean(scores_window)))\n",
    "        if np.mean(scores_window)>=13.0 and not solved:\n",
    "            print('\\nEnvironment solved in {:d} episodes!\\tAverage Score: {:.2f}'.format(i, np.mean(scores_window)))\n",
    "            solved=True\n",
    "    if agent.ddqn:\n",
    "        torch.save(agent.qnet_local.state_dict(), 'Banana_ddqn.pth')\n",
    "    else:\n",
    "        torch.save(agent.qnet_local.state_dict(), 'Banana.pth')\n",
    "           \n",
    " \n",
    "    return scores\n",
    "        "
   ]
  },
  {
   "cell_type": "code",
   "execution_count": 12,
   "metadata": {},
   "outputs": [],
   "source": [
    "vanilla_agent = Agent(37,4,8,0.95) # agent\n",
    "ddqn_agent= Agent(37,4,8,0.95,use_ddqn=True)  # ddqn agent"
   ]
  },
  {
   "cell_type": "code",
   "execution_count": 13,
   "metadata": {},
   "outputs": [
    {
     "name": "stdout",
     "output_type": "stream",
     "text": [
      "Agent lerning with State_size : 37  Action_size : 4  Gamma : 0.95  Update_schedule : 8 \n",
      " DDQN :  False\n",
      "Episode 100\tAverage Score: 1.04   eps: 0.606\n",
      "Episode 200\tAverage Score: 2.94   eps: 0.367\n",
      "Episode 300\tAverage Score: 9.74   eps: 0.222\n",
      "Episode 350\tAverage Score: 13.16   eps: 0.173\n",
      "Environment solved in 350 episodes!\tAverage Score: 13.16\n",
      "Episode 400\tAverage Score: 16.58   eps: 0.135\n",
      "Episode 500\tAverage Score: 19.88   eps: 0.082\n",
      "Episode 600\tAverage Score: 23.50   eps: 0.049\n",
      "Episode 700\tAverage Score: 24.70   eps: 0.030\n",
      "Episode 800\tAverage Score: 28.38   eps: 0.018\n",
      "Episode 900\tAverage Score: 30.58   eps: 0.011\n",
      "Episode 1000\tAverage Score: 30.02   eps: 0.010\n",
      "\n",
      "\n",
      "\n",
      "Agent lerning with State_size : 37  Action_size : 4  Gamma : 0.95  Update_schedule : 8 \n",
      " DDQN :  True\n",
      "Episode 100\tAverage Score: 0.02   eps: 0.606\n",
      "Episode 200\tAverage Score: 3.30   eps: 0.3674\n",
      "Episode 300\tAverage Score: 10.06   eps: 0.222\n",
      "Episode 334\tAverage Score: 13.08   eps: 0.187\n",
      "Environment solved in 334 episodes!\tAverage Score: 13.08\n",
      "Episode 400\tAverage Score: 16.06   eps: 0.135\n",
      "Episode 500\tAverage Score: 20.78   eps: 0.082\n",
      "Episode 600\tAverage Score: 24.56   eps: 0.049\n",
      "Episode 700\tAverage Score: 25.26   eps: 0.030\n",
      "Episode 800\tAverage Score: 28.42   eps: 0.018\n",
      "Episode 900\tAverage Score: 31.94   eps: 0.011\n",
      "Episode 1000\tAverage Score: 31.86   eps: 0.010\n"
     ]
    }
   ],
   "source": [
    "vanilla_scores = run(1000,vanilla_agent,1000)\n",
    "print(\"\\n\\n\")\n",
    "ddqn_scores = run(1000,ddqn_agent,1000)"
   ]
  },
  {
   "cell_type": "code",
   "execution_count": 14,
   "metadata": {},
   "outputs": [
    {
     "data": {
      "image/png": "[encoded data removed]",
      "text/plain": [
       "<Figure size 432x288 with 1 Axes>"
      ]
     },
     "metadata": {},
     "output_type": "display_data"
    }
   ],
   "source": [
    "plt.title(\"Rewards\")\n",
    "plt.xlabel(\"Episodes\")\n",
    "plt.ylabel(\"Score\")\n",
    "sns.lineplot(data=np.array(vanilla_scores),legend=\"brief\",label=\"DQN\")\n",
    "sns.lineplot(data=np.array(ddqn_scores),legend=\"brief\",label=\"DDQN\")\n",
    "plt.savefig(\"plot.png\")\n",
    "plt.show()"
   ]
  },
  {
   "cell_type": "code",
   "execution_count": 20,
   "metadata": {},
   "outputs": [],
   "source": [
    "def test_agent(agent):\n",
    "    for i in range(5):\n",
    "        env_info = env.reset(train_mode=False)[brain_name]\n",
    "        state = env_info.vector_observations[0]\n",
    "        score=0\n",
    "        while True:\n",
    "            action = int(agent.e_greedy(state))\n",
    "            env_info = env.step(action)[brain_name]\n",
    "            next_state = env_info.vector_observations[0]\n",
    "            reward = env_info.rewards[0]\n",
    "            score+=reward\n",
    "            done = env_info.local_done[0]\n",
    "            state = next_state\n",
    "            if done:\n",
    "                break\n",
    "        print(score)"
   ]
  },
  {
   "cell_type": "code",
   "execution_count": 22,
   "metadata": {},
   "outputs": [
    {
     "name": "stdout",
     "output_type": "stream",
     "text": [
      "12.0\n",
      "17.0\n",
      "23.0\n",
      "11.0\n",
      "15.0\n"
     ]
    }
   ],
   "source": [
    "ddqn_agent.qnet_local.load_state_dict(torch.load('Banana_ddqn.pth'))\n",
    "test_agent(ddqn_agent)"
   ]
  },
  {
   "cell_type": "code",
   "execution_count": 23,
   "metadata": {},
   "outputs": [],
   "source": [
    "env.close()"
   ]
  },
  {
   "cell_type": "markdown",
   "metadata": {},
   "source": [
    "When finished, you can close the environment."
   ]
  },
  {
   "cell_type": "markdown",
   "metadata": {},
   "source": [
    "### 4. It's Your Turn!\n",
    "\n",
    "Now it's your turn to train your own agent to solve the environment!  A few **important notes**:\n",
    "- When training the environment, set `train_mode=True`, so that the line for resetting the environment looks like the following:\n",
    "```python\n",
    "env_info = env.reset(train_mode=True)[brain_name]\n",
    "```\n",
    "- To structure your work, you're welcome to work directly in this Jupyter notebook, or you might like to start over with a new file!  You can see the list of files in the workspace by clicking on **_Jupyter_** in the top left corner of the notebook.\n",
    "- In this coding environment, you will not be able to watch the agent while it is training.  However, **_after training the agent_**, you can download the saved model weights to watch the agent on your own machine! "
   ]
  }
 ],
 "metadata": {
  "kernelspec": {
   "display_name": "drlnd",
   "language": "python",
   "name": "drlnd"
  },
  "language_info": {
   "codemirror_mode": {
    "name": "ipython",
    "version": 3
   },
   "file_extension": ".py",
   "mimetype": "text/x-python",
   "name": "python",
   "nbconvert_exporter": "python",
   "pygments_lexer": "ipython3",
   "version": "3.6.10"
  }
 },
 "nbformat": 4,
 "nbformat_minor": 4
}
